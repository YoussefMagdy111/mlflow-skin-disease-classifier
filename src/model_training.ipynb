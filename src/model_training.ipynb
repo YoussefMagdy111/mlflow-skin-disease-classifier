{
 "cells": [
  {
   "cell_type": "code",
   "execution_count": 12,
   "id": "6548a1b9",
   "metadata": {},
   "outputs": [],
   "source": [
    "import import_ipynb\n",
    "import mlflow\n",
    "from data_preprocessing import pipeline , x_train , y_train , x_test , y_test \n"
   ]
  },
  {
   "cell_type": "code",
   "execution_count": 8,
   "id": "f9558c0d",
   "metadata": {},
   "outputs": [
    {
     "name": "stderr",
     "output_type": "stream",
     "text": [
      "2025/07/11 12:02:12 INFO mlflow.tracking.fluent: Experiment with name 'SkinDiseaseClassifier' does not exist. Creating a new experiment.\n"
     ]
    },
    {
     "data": {
      "text/plain": [
       "<Experiment: artifact_location='mlflow-artifacts:/572151230226852239', creation_time=1752224532581, experiment_id='572151230226852239', last_update_time=1752224532581, lifecycle_stage='active', name='SkinDiseaseClassifier', tags={}>"
      ]
     },
     "execution_count": 8,
     "metadata": {},
     "output_type": "execute_result"
    }
   ],
   "source": [
    "mlflow.set_experiment(\"SkinDiseaseClassifier\")\n"
   ]
  },
  {
   "cell_type": "code",
   "execution_count": 13,
   "id": "28d2c71d",
   "metadata": {},
   "outputs": [],
   "source": [
    "from sklearn.metrics import accuracy_score\n",
    "from mlflow.models.signature import infer_signature\n",
    "\n"
   ]
  },
  {
   "cell_type": "code",
   "execution_count": 15,
   "id": "095fbde6",
   "metadata": {},
   "outputs": [
    {
     "name": "stderr",
     "output_type": "stream",
     "text": [
      "c:\\Users\\m\\anaconda3\\envs\\tf\\lib\\site-packages\\mlflow\\types\\utils.py:452: UserWarning: Hint: Inferred schema contains integer column(s). Integer columns in Python cannot represent missing values. If your input data contains missing values at inference time, it will be encoded as floats and will cause a schema enforcement error. The best way to avoid this problem is to infer the model schema based on a realistic data sample (training dataset) that includes missing values. Alternatively, you can declare integer columns as doubles (float64) whenever these columns may have missing values. See `Handling Integers With Missing Values <https://www.mlflow.org/docs/latest/models.html#handling-integers-with-missing-values>`_ for more details.\n",
      "  warnings.warn(\n",
      "2025/07/11 12:15:13 WARNING mlflow.models.model: `artifact_path` is deprecated. Please use `name` instead.\n"
     ]
    },
    {
     "name": "stdout",
     "output_type": "stream",
     "text": [
      "🏃 View run luxuriant-shrimp-836 at: http://127.0.0.1:5000/#/experiments/572151230226852239/runs/029459a25ed74303842776ac6aaadd5e\n",
      "🧪 View experiment at: http://127.0.0.1:5000/#/experiments/572151230226852239\n"
     ]
    }
   ],
   "source": [
    "with mlflow.start_run():\n",
    "    model=pipeline.fit(x_train , y_train )\n",
    "    y_predict=model.predict(x_test)\n",
    "    acc=accuracy_score(y_test , y_predict)\n",
    "    mlflow.log_metric(\"accuracy\",acc)\n",
    "    model_params = model.named_steps[\"model\"].get_params()\n",
    "    mlflow.log_params(model_params)\n",
    "    signature = infer_signature(x_train, model.predict(x_train))\n",
    "    mlflow.sklearn.log_model(model, \"model\", signature=signature, input_example=x_train.head(1))\n"
   ]
  }
 ],
 "metadata": {
  "kernelspec": {
   "display_name": "tf",
   "language": "python",
   "name": "python3"
  },
  "language_info": {
   "codemirror_mode": {
    "name": "ipython",
    "version": 3
   },
   "file_extension": ".py",
   "mimetype": "text/x-python",
   "name": "python",
   "nbconvert_exporter": "python",
   "pygments_lexer": "ipython3",
   "version": "3.10.18"
  }
 },
 "nbformat": 4,
 "nbformat_minor": 5
}
